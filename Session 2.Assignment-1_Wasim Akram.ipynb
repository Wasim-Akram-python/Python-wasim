{
 "cells": [
  {
   "cell_type": "markdown",
   "metadata": {},
   "source": [
    "# Task 1:   \n",
    " \n",
    "Question 1.1  \n",
    " \n",
    "Write a Python Program to implement your own myreduce() function which works exactly like Python's built-in function reduce() "
   ]
  },
  {
   "cell_type": "code",
   "execution_count": 44,
   "metadata": {},
   "outputs": [
    {
     "name": "stdout",
     "output_type": "stream",
     "text": [
      "120\n"
     ]
    }
   ],
   "source": [
    "def myreduce(func,l):\n",
    "    result=1\n",
    "    for i in l :\n",
    "        result=i*result\n",
    "    return result\n",
    "def prod():\n",
    "      return a*b\n",
    "l=[1,2,3,4,5]\n",
    "print(myreduce(prod,l))"
   ]
  },
  {
   "cell_type": "markdown",
   "metadata": {},
   "source": [
    "Question 1.2  \n",
    " \n",
    "Write a Python program to implement your own myfilter() function which works exactly like Python's built-in function filter() "
   ]
  },
  {
   "cell_type": "code",
   "execution_count": 46,
   "metadata": {},
   "outputs": [
    {
     "name": "stdout",
     "output_type": "stream",
     "text": [
      "[2, 4, 6, 8, 10]\n"
     ]
    }
   ],
   "source": [
    "def myfilter(function,iterabal):\n",
    "    lst=[]\n",
    "    for i in l:\n",
    "        if function(i):\n",
    "            lst.append(i)\n",
    "    return lst\n",
    "    \n",
    "def even(num):\n",
    "    if num%2==0:\n",
    "        return True\n",
    "    else:\n",
    "        return False\n",
    "l=[1,2,3,4,5,6,7,8,9,10]\n",
    "print(myfilter(even,l))\n"
   ]
  },
  {
   "cell_type": "markdown",
   "metadata": {},
   "source": [
    "Question 2.  \n",
    " \n",
    "Implement List comprehensions to produce the following lists. \n",
    " \n",
    "Write List comprehensions to produce the following Lists \n",
    " \n",
    "['A', 'C', 'A', 'D', 'G', 'I', ’L’, ‘ D’] \n",
    " \n",
    "['x', 'xx', 'xxx', 'xxxx', 'y', 'yy', 'yyy', 'yyyy', 'z', 'zz', 'zzz', 'zzzz'] \n",
    " \n",
    "['x', 'y', 'z', 'xx', 'yy', 'zz', 'xx', 'yy', 'zz', 'xxxx', 'yyyy', 'zzzz'] \n",
    " \n",
    "[[2], [3], [4], [3], [4], [5], [4], [5], [6]] \n",
    " \n",
    "[[2, 3, 4, 5], [3, 4, 5, 6], [4, 5, 6, 7], [5, 6, 7, 8]] \n",
    " \n",
    "[(1, 1), (2, 1), (3, 1), (1, 2), (2, 2), (3, 2), (1, 3), (2, 3), (3, 3)] "
   ]
  },
  {
   "cell_type": "code",
   "execution_count": 47,
   "metadata": {},
   "outputs": [
    {
     "name": "stdout",
     "output_type": "stream",
     "text": [
      "['A', 'C', 'A', 'D', 'G', 'I', 'L', 'D']\n",
      "['x', 'xx', 'xxx', 'xxxx', 'y', 'yy', 'yyy', 'yyyy', 'z', 'zz', 'zzz', 'zzzz']\n",
      "['x', 'y', 'z', 'xx', 'yy', 'zz', 'xx', 'yy', 'zz', 'xxxx', 'yyyy', 'zzzz']\n",
      "[[2], [3], [4], [3], [4], [5], [4], [5], [6]]\n",
      "[[2, 3, 4, 5], [3, 4, 5, 6], [4, 5, 6, 7], [5, 6, 7, 8]]\n",
      "[(1, 1), (2, 1), (3, 1), (1, 2), (2, 2), (3, 2), (1, 3), (2, 3), (3, 3)]\n"
     ]
    }
   ],
   "source": [
    "#1\n",
    "s='ACADGILD'\n",
    "l1=[i for i in s]\n",
    "print(l1)\n",
    "#2\n",
    "l='xyz'\n",
    "l2=[(i*j) for i in l for j in range(1,5)]\n",
    "print(l2)\n",
    "#3\n",
    "l3=[(i*j*k) for i in range(1,3) for j in range(1,3) for k in l]\n",
    "print(l3)\n",
    "\n",
    "#4\n",
    "l4=[[j+i] for i in range(1,4) for j in range(1,4)]\n",
    "print(l4)\n",
    "#5\n",
    "l5=([(j+i)for i in range(0,4)] for j in range(2,6))\n",
    "print(list(l5)) \n",
    "\n",
    "#6\n",
    "l6=[(j,i) for i in range(1,4) for j in range(1,4)]\n",
    "print(l6)"
   ]
  },
  {
   "cell_type": "markdown",
   "metadata": {},
   "source": [
    "Question 3.  \n",
    " \n",
    "Implement a function longestWord() that takes a list of words and returns the longest one. "
   ]
  },
  {
   "cell_type": "code",
   "execution_count": 169,
   "metadata": {},
   "outputs": [
    {
     "name": "stdout",
     "output_type": "stream",
     "text": [
      "abcnnnnnnnnnnnnnnnnnnnnnnnnnnnnnnnnnnnn\n"
     ]
    }
   ],
   "source": [
    "def longestWord(word):\n",
    "    longest=[]\n",
    "    for n in word:\n",
    "        longest.append((len(n),n))# first append the word lenth\n",
    "    longest.sort()# sorting according to lenth\n",
    "    return longest[-1][1]# returning last index\n",
    "\n",
    "            \n",
    "print(longestWord(['wasimakram','akram','ZibraanAkram','abcnnnnnnnnnnnnnnnnnnnnnnnnnnnnnnnnnnnn']))\n"
   ]
  },
  {
   "cell_type": "markdown",
   "metadata": {},
   "source": [
    "Task 2: \n",
    " \n",
    " \n",
    "Q 1.1  \n",
    " \n",
    "Write a Python Program(with class concepts) to find the area of the triangle using the below formula. \n",
    " \n",
    "area = (s*(s-a)*(s-b)*(s-c)) ** 0.5 \n",
    " \n",
    "Function to take the length of the sides of triangle from user should be defined in the parent class and function to calculate the area should be defined in subclass. \n",
    " \n",
    " "
   ]
  },
  {
   "cell_type": "code",
   "execution_count": 1,
   "metadata": {},
   "outputs": [
    {
     "name": "stdout",
     "output_type": "stream",
     "text": [
      "Enter the value of a 2.5\n",
      "Enter the value of b 3.9\n",
      "Enter the value of c 4\n",
      "Enter the value of s 5\n",
      "Area of the triangle  (s*(s-a)*(s-b)*(s-c)**0.5) is = 3.708099243547832\n"
     ]
    }
   ],
   "source": [
    "class input:\n",
    "    def __init__(self,a,b,c,s):\n",
    "        self.s=s\n",
    "        self.a=a\n",
    "        self.c=c\n",
    "        self.b=b\n",
    "        print(\"Enter the value of a\", self.a)\n",
    "        print(\"Enter the value of b\", self.b)\n",
    "        print(\"Enter the value of c\", self.c)\n",
    "        print(\"Enter the value of s\", self.s)\n",
    "\n",
    "class  Triangle(input):\n",
    "    def __init__(self,a,b,c,s):\n",
    "        super().__init__(a,b,c,s)\n",
    "        \n",
    "    def area(self):\n",
    "        print(\"Area of the triangle  (s*(s-a)*(s-b)*(s-c)**0.5) is =\",(self.s*(self.s-self.a)*(self.s-self.b)*(self.s-self.c))**0.5)\n",
    "\n",
    "b=Triangle(2.5,3.9,4,5)\n",
    "b.area()"
   ]
  },
  {
   "cell_type": "markdown",
   "metadata": {},
   "source": [
    "Q 1.2 \n",
    " \n",
    "Write a function filter_long_words() that takes a list of words and an integer n and returns the list of words that are longer than n. \n",
    " \n",
    " "
   ]
  },
  {
   "cell_type": "code",
   "execution_count": 43,
   "metadata": {},
   "outputs": [
    {
     "name": "stdout",
     "output_type": "stream",
     "text": [
      "['Zibraan']\n"
     ]
    }
   ],
   "source": [
    "def filter_long_words(str,integer):\n",
    "    lst=[]\n",
    "    s=str.split(\" \")\n",
    "    for i in s:\n",
    "        if len(i)>integer:\n",
    "            lst.append(i)\n",
    "    return lst\n",
    "a=filter_long_words(\"This is Zibraan Akram\",5)\n",
    "print(a)\n",
    "            \n",
    "             \n",
    "                       \n"
   ]
  },
  {
   "cell_type": "markdown",
   "metadata": {},
   "source": [
    "Q 2.1 \n",
    " \n",
    "Write a Python program using function concept that maps  list of words into a list of integers representing the lengths \n",
    "of the corresponding words​. "
   ]
  },
  {
   "cell_type": "code",
   "execution_count": 182,
   "metadata": {},
   "outputs": [
    {
     "name": "stdout",
     "output_type": "stream",
     "text": [
      "[(10, 'wasimakram'), (5, 'akram'), (12, 'zibraanahmed'), (1, 'a')]\n"
     ]
    }
   ],
   "source": [
    "word=['wasimakram','akram','zibraanahmed','a']\n",
    "n=[]\n",
    "def word2length():\n",
    "    for element in word:\n",
    "        n.append((len(element),element))#appending lenthof word,word\n",
    "    return n\n",
    "word2length()\n",
    "print(n)        \n"
   ]
  },
  {
   "cell_type": "markdown",
   "metadata": {},
   "source": [
    "Q 2.2 \n",
    " \n",
    "Write a Python function which takes a character (i.e. a string of length 1) and returns True if it is a vowel, False otherwise. "
   ]
  },
  {
   "cell_type": "code",
   "execution_count": 178,
   "metadata": {},
   "outputs": [
    {
     "data": {
      "text/plain": [
       "False"
      ]
     },
     "execution_count": 178,
     "metadata": {},
     "output_type": "execute_result"
    }
   ],
   "source": [
    " def identifier(str):\n",
    "    if(str==\"A\" or str==\"E\" or str==\"I\" or str==\"O\" or str==\"U\" or str==\"a\" or str==\"e\" or str==\"i\" or str==\"o\" or str==\"u\"):\n",
    "        return True\n",
    "    else:\n",
    "        return False\n",
    "identifier(\"1\")"
   ]
  },
  {
   "cell_type": "code",
   "execution_count": 179,
   "metadata": {},
   "outputs": [
    {
     "data": {
      "text/plain": [
       "True"
      ]
     },
     "execution_count": 179,
     "metadata": {},
     "output_type": "execute_result"
    }
   ],
   "source": [
    "identifier(\"A\")"
   ]
  },
  {
   "cell_type": "code",
   "execution_count": 180,
   "metadata": {},
   "outputs": [
    {
     "data": {
      "text/plain": [
       "False"
      ]
     },
     "execution_count": 180,
     "metadata": {},
     "output_type": "execute_result"
    }
   ],
   "source": [
    "identifier(\"C\")"
   ]
  },
  {
   "cell_type": "code",
   "execution_count": null,
   "metadata": {},
   "outputs": [],
   "source": []
  }
 ],
 "metadata": {
  "kernelspec": {
   "display_name": "Python 3",
   "language": "python",
   "name": "python3"
  },
  "language_info": {
   "codemirror_mode": {
    "name": "ipython",
    "version": 3
   },
   "file_extension": ".py",
   "mimetype": "text/x-python",
   "name": "python",
   "nbconvert_exporter": "python",
   "pygments_lexer": "ipython3",
   "version": "3.7.4"
  }
 },
 "nbformat": 4,
 "nbformat_minor": 2
}
